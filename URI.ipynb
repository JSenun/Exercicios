{
 "cells": [
  {
   "cell_type": "markdown",
   "id": "1b1e55e1",
   "metadata": {},
   "source": [
    "# Desafios do site BeeCrowd\n",
    "Respostas dos exercícios disponiveis no site BeeCrowd (Antigo URI Online Judge)"
   ]
  },
  {
   "cell_type": "markdown",
   "id": "cef712d5",
   "metadata": {},
   "source": [
    "## Begineer"
   ]
  },
  {
   "cell_type": "code",
   "execution_count": 6,
   "id": "696cbe73",
   "metadata": {
    "scrolled": true
   },
   "outputs": [
    {
     "name": "stdout",
     "output_type": "stream",
     "text": [
      "3\n",
      "A=28.2743\n"
     ]
    }
   ],
   "source": [
    "# 1002\n",
    "r = float(input())\n",
    "n = 3.14159\n",
    "a = n * (r*r)\n",
    "\n",
    "print(\"A={:.4f}\".format(a))"
   ]
  },
  {
   "cell_type": "code",
   "execution_count": 9,
   "id": "09da4bba",
   "metadata": {},
   "outputs": [
    {
     "name": "stdout",
     "output_type": "stream",
     "text": [
      "-30\n",
      "10\n",
      "SOMA =  -20\n"
     ]
    }
   ],
   "source": [
    "# 1003\n",
    "n1 = int(input())\n",
    "n2 = int(input())\n",
    "soma = (n1 + n2)\n",
    "print(\"SOMA =\", soma)"
   ]
  },
  {
   "cell_type": "code",
   "execution_count": 13,
   "id": "8908ca57",
   "metadata": {},
   "outputs": [
    {
     "name": "stdout",
     "output_type": "stream",
     "text": [
      "0\n",
      "9\n",
      "PROD = 0\n"
     ]
    }
   ],
   "source": [
    "# 1004\n",
    "n1 = int(input())\n",
    "n2 = int(input())\n",
    "prod = n1 * n2\n",
    "print(\"PROD =\", prod)\n"
   ]
  },
  {
   "cell_type": "code",
   "execution_count": 16,
   "id": "1fcf0db1",
   "metadata": {},
   "outputs": [
    {
     "name": "stdout",
     "output_type": "stream",
     "text": [
      "5\n",
      "7.1\n",
      "MEDIA = 6.43182\n"
     ]
    }
   ],
   "source": [
    "# 1005\n",
    "n1 = float(input())\n",
    "n1_weight = 3.5\n",
    "\n",
    "n2 = float(input())\n",
    "n2_weight = 7.5\n",
    "\n",
    "average = ((n1 * n1_weight) + (n2 * n2_weight)) / (n1_weight + n2_weight)\n",
    "print(\"MEDIA = {:.5f}\".format(average))\n"
   ]
  },
  {
   "cell_type": "code",
   "execution_count": 20,
   "id": "30ca215c",
   "metadata": {},
   "outputs": [
    {
     "name": "stdout",
     "output_type": "stream",
     "text": [
      "10\n",
      "10\n",
      "5\n",
      "MEDIA = 7.5\n"
     ]
    }
   ],
   "source": [
    "# 1006\n",
    "n1 = float(input())\n",
    "n1_weight = 2\n",
    "\n",
    "n2 = float(input())\n",
    "n2_weight = 3\n",
    "\n",
    "n3 = float(input())\n",
    "n3_weight = 5\n",
    "\n",
    "\n",
    "average = ((n1 * n1_weight) + (n2 * n2_weight) + (n3 * n3_weight)) / (n1_weight + n2_weight + n3_weight)\n",
    "print(\"MEDIA = {:.1f}\".format(average))\n"
   ]
  },
  {
   "cell_type": "code",
   "execution_count": 23,
   "id": "3008724d",
   "metadata": {},
   "outputs": [
    {
     "name": "stdout",
     "output_type": "stream",
     "text": [
      "5\n",
      "6\n",
      "-7\n",
      "8\n",
      "PROD = 86\n"
     ]
    }
   ],
   "source": [
    "# 1007\n",
    "\n",
    "A = int(input())\n",
    "B = int(input())\n",
    "C = int(input())\n",
    "D = int(input())\n",
    "\n",
    "diferenca = (A * B - C * D)\n",
    "print(\"DIFERENCA =\", diferenca)"
   ]
  },
  {
   "cell_type": "code",
   "execution_count": 27,
   "id": "87836d81",
   "metadata": {
    "scrolled": true
   },
   "outputs": [
    {
     "name": "stdout",
     "output_type": "stream",
     "text": [
      "6\n",
      "145\n",
      "15.55\n",
      "NUMBER = 6\n",
      "SALARY = U$ 2254.75\n"
     ]
    }
   ],
   "source": [
    "# 1008\n",
    "\n",
    "employee_number = int(input())\n",
    "worked_hours = int(input())\n",
    "amount_per_hour = float(input())\n",
    "\n",
    "salary = amount_per_hour * worked_hours\n",
    "\n",
    "print(\"NUMBER =\", employee_number)\n",
    "print(\"SALARY = U$ {:.2f}\".format(salary))"
   ]
  },
  {
   "cell_type": "code",
   "execution_count": 28,
   "id": "b27dbadf",
   "metadata": {},
   "outputs": [
    {
     "name": "stdout",
     "output_type": "stream",
     "text": [
      "JOAO\n",
      "500.00\n",
      "1230.30\n",
      "TOTAL = R$ 684.54\n"
     ]
    }
   ],
   "source": [
    "# 1009\n",
    "\n",
    "seller_name = input()\n",
    "fixed_salary = float(input())\n",
    "sales_total_amouny = float(input())\n",
    "bonus = sales_total_amouny * 0.15\n",
    "total = fixed_salary + bonus\n",
    "\n",
    "print(\"TOTAL = R$ {:.2f}\".format(total))"
   ]
  },
  {
   "cell_type": "code",
   "execution_count": 31,
   "id": "ba111077",
   "metadata": {},
   "outputs": [
    {
     "name": "stdout",
     "output_type": "stream",
     "text": [
      "12 1 5.30\n",
      "16 2 5.10\n",
      "VALOR A PAGAR: R$ 15.50\n"
     ]
    }
   ],
   "source": [
    "# 1010\n",
    "\n",
    "product1 = input()\n",
    "product1 = product1.split(' ')\n",
    "product1_code = int(product1[0])\n",
    "product1_units = int(product1[1])\n",
    "product1_price = float(product1[2])\n",
    "\n",
    "product2 = input()\n",
    "product2 = product2.split(' ')\n",
    "product2_code = int(product2[0])\n",
    "product2_units = int(product2[1])\n",
    "product2_price = float(product2[2])\n",
    "\n",
    "total = (product1_units * product1_price) + (product2_units * product2_price)\n",
    "print(\"VALOR A PAGAR: R$ {:.2f}\".format(total))"
   ]
  },
  {
   "cell_type": "code",
   "execution_count": 33,
   "id": "d94c31fd",
   "metadata": {},
   "outputs": [
    {
     "name": "stdout",
     "output_type": "stream",
     "text": [
      "15\n",
      "VOLUME = 14137.155\n"
     ]
    }
   ],
   "source": [
    "# 1011\n",
    "\n",
    "r = int(input())\n",
    "pi = 3.14159\n",
    "volume = (4/3.0) * pi * (r*r*r)\n",
    "\n",
    "print(\"VOLUME = {:.3f}\".format(volume))"
   ]
  },
  {
   "cell_type": "code",
   "execution_count": 40,
   "id": "1bc1d24f",
   "metadata": {},
   "outputs": [
    {
     "name": "stdout",
     "output_type": "stream",
     "text": [
      "12.7 10.4 15.2\n",
      "TRIANGULO: 96.520\n",
      "CIRCULO: 725.833\n",
      "TRAPEZIO: 175.560\n",
      "QUADRADO: 108.160\n",
      "RETANGULO: 132.080\n"
     ]
    }
   ],
   "source": [
    "# 1012\n",
    "\n",
    "pi = 3.14159\n",
    "\n",
    "entry = input()\n",
    "entry = entry.split(' ')\n",
    "\n",
    "a = float(entry[0])\n",
    "b = float(entry[1])\n",
    "c = float(entry[2])\n",
    "\n",
    "triangulo = a * c / 2\n",
    "circulo = pi * (c*c)\n",
    "trapezio = 1/2 * (a + b) * c\n",
    "quadrado = b * b\n",
    "retangulo = a * b\n",
    "\n",
    "print('TRIANGULO: {:.3f}'.format(triangulo))\n",
    "print('CIRCULO: {:.3f}'.format(circulo))\n",
    "print('TRAPEZIO: {:.3f}'.format(trapezio))\n",
    "print('QUADRADO: {:.3f}'.format(quadrado))\n",
    "print('RETANGULO: {:.3f}'.format(retangulo))"
   ]
  },
  {
   "cell_type": "code",
   "execution_count": 48,
   "id": "fa957381",
   "metadata": {},
   "outputs": [
    {
     "name": "stdout",
     "output_type": "stream",
     "text": [
      "217 14 6\n",
      "217 eh o maior\n"
     ]
    }
   ],
   "source": [
    "# 1013\n",
    "entry = input()\n",
    "entry = entry.split(' ')\n",
    "\n",
    "a = int(entry[0])\n",
    "b = int(entry[1])\n",
    "c = int(entry[2])\n",
    "\n",
    "maiorAB = (a+b+abs(a-b)) / 2\n",
    "maiorABC = int((maiorAB + c + abs(maiorAB - c)) /2)\n",
    "print(maiorABC, \"eh o maior\")"
   ]
  },
  {
   "cell_type": "code",
   "execution_count": 3,
   "id": "011b2103",
   "metadata": {},
   "outputs": [
    {
     "name": "stdout",
     "output_type": "stream",
     "text": [
      "4554\n",
      "464.6\n",
      "9.802 km/l\n"
     ]
    }
   ],
   "source": [
    "# 1014\n",
    "total_distance = int(input())\n",
    "fuel_spent = float(input())\n",
    "consumption = total_distance / fuel_spent\n",
    "print(\"{:.3f} km/l\".format(consumption))"
   ]
  },
  {
   "cell_type": "code",
   "execution_count": 23,
   "id": "0a83f97b",
   "metadata": {},
   "outputs": [
    {
     "name": "stdout",
     "output_type": "stream",
     "text": [
      "1.0 7.0\n",
      "5.0 9.0\n",
      "4.4721\n"
     ]
    }
   ],
   "source": [
    "import math\n",
    "# 1015\n",
    "\n",
    "p1_values = input()\n",
    "p1_values= p1_values.split(' ')\n",
    "x1 = float(p1_values[0])\n",
    "y1 = float(p1_values[1])\n",
    "\n",
    "p2_values = input()\n",
    "p2_values = p2_values.split(' ')\n",
    "x2 = float(p2_values[0])\n",
    "y2 = float(p2_values[1])\n",
    "\n",
    "distance = math.sqrt(((x2 - x1) * (x2 - x1)) + ((y2 - y1) * (y2 - y1)))\n",
    "print(\"{:.4f}\".format(distance))"
   ]
  },
  {
   "cell_type": "code",
   "execution_count": 17,
   "id": "84aaafa5",
   "metadata": {
    "scrolled": true
   },
   "outputs": [
    {
     "name": "stdout",
     "output_type": "stream",
     "text": [
      "30\n",
      "60 minutos\n"
     ]
    }
   ],
   "source": [
    "# 1016\n",
    "\n",
    "distance = int(input())\n",
    "\n",
    "minutes = distance * 2\n",
    "print(minutes, \"minutos\")"
   ]
  },
  {
   "cell_type": "code",
   "execution_count": 20,
   "id": "c8516d28",
   "metadata": {},
   "outputs": [
    {
     "name": "stdout",
     "output_type": "stream",
     "text": [
      "22\n",
      "67\n",
      "122.833\n"
     ]
    }
   ],
   "source": [
    "# 1017\n",
    "\n",
    "fuel_per_km = 12\n",
    "hours_spent = int(input())\n",
    "average_speed = int(input())\n",
    "\n",
    "liters = (hours_spent * average_speed) / fuel_per_km\n",
    "\n",
    "print(\"{:.3f}\".format(liters))"
   ]
  },
  {
   "cell_type": "code",
   "execution_count": 24,
   "id": "41aef2bd",
   "metadata": {},
   "outputs": [
    {
     "name": "stdout",
     "output_type": "stream",
     "text": [
      "112570\n",
      "0\n",
      "1125 nota(s) de R$ 100,00\n",
      "1 nota(s) de R$ 50,00\n",
      "1 nota(s) de R$ 20,00\n",
      "0 nota(s) de R$ 10,00\n",
      "0 nota(s) de R$ 5,00\n",
      "0 nota(s) de R$ 2,00\n",
      "0 nota(s) de R$ 1,00\n"
     ]
    }
   ],
   "source": [
    "# 1018\n",
    "\n",
    "entry = int(input())\n",
    "notas_cem = 0 \n",
    "notas_cinquenta = 0 \n",
    "notas_vinte = 0 \n",
    "notas_dez = 0 \n",
    "notas_cinco = 0 \n",
    "notas_dois = 0 \n",
    "notas_um = 0 \n",
    "\n",
    "print(entry)\n",
    "while entry > 0:\n",
    "    if entry >= 100:\n",
    "        entry -= 100\n",
    "        notas_cem += 1\n",
    "    elif entry >= 50:\n",
    "        entry -= 50\n",
    "        notas_cinquenta += 1\n",
    "    elif entry >= 20:\n",
    "        entry -= 20\n",
    "        notas_vinte += 1\n",
    "    elif entry >= 10:\n",
    "        entry -= 10\n",
    "        notas_dez += 1\n",
    "    elif entry >= 5:\n",
    "        entry -= 5\n",
    "        notas_cinco += 1  \n",
    "    elif entry >= 2:\n",
    "        entry -= 2\n",
    "        notas_dois += 1\n",
    "    elif entry >= 1:\n",
    "        entry -= 1\n",
    "        notas_um += 1\n",
    "\n",
    "\n",
    "print(notas_cem,\"nota(s) de R$ 100,00\")\n",
    "print(notas_cinquenta,\"nota(s) de R$ 50,00\")\n",
    "print(notas_vinte,\"nota(s) de R$ 20,00\")\n",
    "print(notas_dez,\"nota(s) de R$ 10,00\")\n",
    "print(notas_cinco,\"nota(s) de R$ 5,00\")\n",
    "print(notas_dois,\"nota(s) de R$ 2,00\")\n",
    "print(notas_um,\"nota(s) de R$ 1,00\")"
   ]
  },
  {
   "cell_type": "code",
   "execution_count": 6,
   "id": "4d39e0f4",
   "metadata": {},
   "outputs": [
    {
     "name": "stdout",
     "output_type": "stream",
     "text": [
      "150000\n",
      "41:40:0\n"
     ]
    }
   ],
   "source": [
    "# 1019\n",
    "\n",
    "n = int(input())\n",
    "seconds = 0\n",
    "minutes = 0\n",
    "hours = 0\n",
    "\n",
    "while n > 0:\n",
    "    if n >= 3600:\n",
    "        hours += 1\n",
    "        n -= 3600\n",
    "    elif n >= 60:\n",
    "        minutes += 1\n",
    "        n -= 60\n",
    "    else:\n",
    "        seconds = n\n",
    "        n -= seconds\n",
    "print(\"{}:{}:{}\".format(hours, minutes, seconds))       "
   ]
  },
  {
   "cell_type": "code",
   "execution_count": 12,
   "id": "b2e68437",
   "metadata": {},
   "outputs": [
    {
     "name": "stdout",
     "output_type": "stream",
     "text": [
      "800\n",
      "2 ano(s)\n",
      "2 mes(es)\n",
      "10 dia(s)\n"
     ]
    }
   ],
   "source": [
    "# 1020\n",
    "\n",
    "entry = int(input())\n",
    "days = 0\n",
    "months = 0\n",
    "years = 0\n",
    "\n",
    "while entry > 0:\n",
    "    if entry >= 365:\n",
    "        years += 1\n",
    "        entry -= 365\n",
    "    elif entry >= 30:\n",
    "        months += 1\n",
    "        entry -= 30\n",
    "    else:\n",
    "        days = entry\n",
    "        entry -= days\n",
    "\n",
    "print(years, \"ano(s)\")\n",
    "print(months, \"mes(es)\")\n",
    "print(days, \"dia(s)\" ) "
   ]
  },
  {
   "cell_type": "code",
   "execution_count": 3,
   "id": "db70ffce",
   "metadata": {
    "scrolled": false
   },
   "outputs": [
    {
     "name": "stdout",
     "output_type": "stream",
     "text": [
      "91.01\n",
      "NOTAS:\n",
      "0 nota(s) de R$ 100.00\n",
      "1 nota(s) de R$ 50.00\n",
      "2 nota(s) de R$ 20.00\n",
      "0 nota(s) de R$ 10.00\n",
      "0 nota(s) de R$ 5.00\n",
      "0 nota(s) de R$ 2.00\n",
      "MOEDAS:\n",
      "1 moeda(s) de R$ 1.00\n",
      "0 moeda(s) de R$ 0.50\n",
      "0 moeda(s) de R$ 0.25\n",
      "0 moeda(s) de R$ 0.10\n",
      "0 moeda(s) de R$ 0.05\n",
      "1 moeda(s) de R$ 0.01\n"
     ]
    }
   ],
   "source": [
    "# 1021\n",
    "\n",
    "## Solução Parcial, a saída é identica mas o site não aprova\n",
    "entry = float(input())\n",
    "notas_cem = 0 \n",
    "notas_cinquenta = 0 \n",
    "notas_vinte = 0 \n",
    "notas_dez = 0 \n",
    "notas_cinco = 0 \n",
    "notas_dois = 0 \n",
    "moedas_um_real = 0 \n",
    "moedas_cinquenta = 0 \n",
    "moedas_vinte_cinco = 0\n",
    "moedas_dez = 0 \n",
    "moedas_cinco = 0\n",
    "moedas_um_centavo = 0\n",
    "\n",
    "while entry > 0.00:\n",
    "    if entry >= 100.00:\n",
    "        entry -= 100.00\n",
    "        notas_cem += 1\n",
    "    elif entry >= 50.00:\n",
    "        entry -= 50.00\n",
    "        notas_cinquenta += 1\n",
    "    elif entry >= 20.00:\n",
    "        entry -= 20.00\n",
    "        notas_vinte += 1\n",
    "    elif entry >= 10.00:\n",
    "        entry -= 10.00\n",
    "        notas_dez += 1\n",
    "    elif entry >= 5.00:\n",
    "        entry -= 5.00\n",
    "        notas_cinco += 1  \n",
    "    elif entry >= 2.00:\n",
    "        entry -= 2.00\n",
    "        notas_dois += 1\n",
    "    elif entry >= 1.00:\n",
    "        entry -= 1.00\n",
    "        moedas_um_real += 1\n",
    "    elif entry >= 0.50:\n",
    "        entry -= 0.50\n",
    "        moedas_cinquenta += 1\n",
    "    elif entry >= 0.25:\n",
    "        entry -= 0.25\n",
    "        moedas_vinte_cinco += 1\n",
    "    elif entry >= 0.10:\n",
    "        entry -= 0.10\n",
    "        moedas_dez += 1\n",
    "    elif entry >= 0.05:\n",
    "        entry -= 0.05\n",
    "        moedas_cinco += 1  \n",
    "    elif entry >= 0.01:\n",
    "        entry -= 0.01\n",
    "        moedas_um_centavo += 1\n",
    "    else:\n",
    "        break\n",
    "        \n",
    "print('NOTAS:')\n",
    "print(notas_cem,\"nota(s) de R$ 100.00\")\n",
    "print(notas_cinquenta,\"nota(s) de R$ 50.00\")\n",
    "print(notas_vinte,\"nota(s) de R$ 20.00\")\n",
    "print(notas_dez,\"nota(s) de R$ 10.00\")\n",
    "print(notas_cinco,\"nota(s) de R$ 5.00\")\n",
    "print(notas_dois,\"nota(s) de R$ 2.00\")\n",
    "print('MOEDAS:')\n",
    "print(moedas_um_real,\"moeda(s) de R$ 1.00\")\n",
    "print(moedas_cinquenta,\"moeda(s) de R$ 0.50\")\n",
    "print(moedas_vinte_cinco,\"moeda(s) de R$ 0.25\")\n",
    "print(moedas_dez,\"moeda(s) de R$ 0.10\")\n",
    "print(moedas_cinco,\"moeda(s) de R$ 0.05\")\n",
    "print(moedas_um_centavo,\"moeda(s) de R$ 0.01\")"
   ]
  },
  {
   "cell_type": "code",
   "execution_count": 8,
   "id": "9ec4f78a",
   "metadata": {},
   "outputs": [
    {
     "name": "stdout",
     "output_type": "stream",
     "text": [
      "3 3 2 6\n",
      "Valores nao aceitos\n"
     ]
    }
   ],
   "source": [
    "# 1035\n",
    "\n",
    "entry = input()\n",
    "entry = entry.split(' ')\n",
    "A = int( entry[0])\n",
    "B = int( entry[1])\n",
    "C = int( entry[2])\n",
    "D = int( entry[3])\n",
    "\n",
    "if B > C and D > A and (C + D) > (A + B) and C > 0 and D > 0 and A % 2 == 0:\n",
    "    print('Valores aceitos')\n",
    "else:\n",
    "    print('Valores nao aceitos')"
   ]
  },
  {
   "cell_type": "code",
   "execution_count": 12,
   "id": "bb4353f2",
   "metadata": {},
   "outputs": [
    {
     "name": "stdout",
     "output_type": "stream",
     "text": [
      "10.0 20.1 5.1\n",
      "R1 = -0.29788\n",
      "R2 = -1.71212\n"
     ]
    }
   ],
   "source": [
    "# 1036\n",
    "import math\n",
    "\n",
    "entry = input()\n",
    "entry = entry.split(' ')\n",
    "a = float(entry[0])\n",
    "b = float(entry[1])\n",
    "c = float(entry[2])\n",
    "\n",
    "if ((b * b) - 4 * a * c) < 0 or a == 0:\n",
    "    print(\"Impossivel calcular\")\n",
    "else:\n",
    "    t = math.sqrt((b * b) - 4 * a * c)\n",
    "    print(\"R1 = {:.5f}\".format(((-b + t) / (2 * a))))\n",
    "    print(\"R2 = {:.5f}\".format(((-b - t) / (2 * a))))    "
   ]
  },
  {
   "cell_type": "code",
   "execution_count": 16,
   "id": "3944c393",
   "metadata": {},
   "outputs": [
    {
     "name": "stdout",
     "output_type": "stream",
     "text": [
      "2 3\n",
      "Total: R$ 13.50\n"
     ]
    }
   ],
   "source": [
    "# 1038\n",
    "\n",
    "entry = input()\n",
    "entry = entry.split(' ')\n",
    "\n",
    "codigo = entry[0]\n",
    "quantidade = int(entry[1])\n",
    "\n",
    "if codigo == \"1\":\n",
    "    preco = 4.00\n",
    "elif codigo == \"2\":\n",
    "    preco = 4.50\n",
    "elif codigo == \"3\":\n",
    "    preco = 5.00\n",
    "elif codigo == \"4\":\n",
    "    preco = 2.00\n",
    "elif codigo == \"5\":\n",
    "    preco = 1.50\n",
    "\n",
    "total = preco * quantidade\n",
    "print(\"Total: R$ {:.2f}\".format(total))"
   ]
  },
  {
   "cell_type": "code",
   "execution_count": 24,
   "id": "295edbc4",
   "metadata": {},
   "outputs": [
    {
     "name": "stdout",
     "output_type": "stream",
     "text": [
      "2.0 4.0 7.5 8.0\n",
      "Media: 5.4\n",
      "Aluno em exame.\n",
      "6.4\n",
      "Nota do exame: 6.4\n",
      "Aluno aprovado.\n",
      "Media final: 5.9\n"
     ]
    }
   ],
   "source": [
    "# 1040\n",
    "\n",
    "entry = input()\n",
    "entry = entry.split(' ')\n",
    "\n",
    "n1 = float(entry[0])\n",
    "n2 = float(entry[1])\n",
    "n3 = float(entry[2])\n",
    "n4 = float(entry[3])\n",
    "\n",
    "n1_peso = 2\n",
    "n2_peso = 3\n",
    "n3_peso = 4\n",
    "n4_peso = 1\n",
    "\n",
    "media = ((n1 * n1_peso) + (n2 * n2_peso) + (n3 * n3_peso) + (n4 * n4_peso)) / (n1_peso + n2_peso + n3_peso + n4_peso)\n",
    "print('Media: {:.1f}'.format(media))\n",
    "\n",
    "if(media >= 7.0):\n",
    "    print(\"Aluno aprovado.\")\n",
    "elif(media < 5.0):\n",
    "    print(\"Aluno reprovado.\")\n",
    "else:\n",
    "    print(\"Aluno em exame.\")\n",
    "    n_exame = float(input())\n",
    "    media = (media + n_exame) / 2\n",
    "    print(\"Nota do exame: {:.1f}\".format(n_exame))\n",
    "    if media >= 5.0:\n",
    "        print(\"Aluno aprovado.\")\n",
    "        print('Media final: {:.1f}'.format(media))\n",
    "    else:\n",
    "        print(\"Aluno reprovado.\")\n",
    "        print('Media final: {:.1f}'.format(media))"
   ]
  },
  {
   "cell_type": "code",
   "execution_count": 35,
   "id": "9643d90a",
   "metadata": {},
   "outputs": [
    {
     "name": "stdout",
     "output_type": "stream",
     "text": [
      "-14 21 7\n",
      "-14\n",
      "7\n",
      "21\n",
      "\n",
      "-14\n",
      "21\n",
      "7\n"
     ]
    }
   ],
   "source": [
    "# 1042\n",
    "\n",
    "entry = input()\n",
    "entry = entry.split(' ')\n",
    "\n",
    "a = int(entry[0])\n",
    "b = int(entry[1])\n",
    "c = int(entry[2])\n",
    "\n",
    "lista = [a,b,c]\n",
    "lista_organizada = [a,b,c]\n",
    "lista_organizada.sort()\n",
    "\n",
    "\n",
    "for num in lista_organizada:\n",
    "    print(num)\n",
    "print()\n",
    "\n",
    "for num in lista:\n",
    "    print(num)"
   ]
  },
  {
   "cell_type": "code",
   "execution_count": 41,
   "id": "74f5ed3f",
   "metadata": {},
   "outputs": [
    {
     "name": "stdout",
     "output_type": "stream",
     "text": [
      "6.0 4.0 2.0\n",
      "Area = 10.0\n"
     ]
    }
   ],
   "source": [
    "# 1043\n",
    "\n",
    "entry = input()\n",
    "entry = entry.split(' ')\n",
    "\n",
    "a = float(entry[0])\n",
    "b = float(entry[1])\n",
    "c = float(entry[2])\n",
    "\n",
    "if a < (b + c) and b < (a + c) and c < (a + b):\n",
    "    perimetro = a + b + c\n",
    "    print(\"Perimetro = {:.1f}\".format(perimetro))\n",
    "else:\n",
    "    area = c * (a + b) / 2\n",
    "    print(\"Area = {:.1f}\".format(area))\n"
   ]
  },
  {
   "cell_type": "code",
   "execution_count": null,
   "id": "0223c565",
   "metadata": {},
   "outputs": [],
   "source": [
    "# 1044\n",
    "\n",
    "entry = input()\n",
    "entry = entry.split(' ')\n",
    "\n",
    "a = float(entry[0])\n",
    "b = float(entry[1])\n",
    "\n",
    "if "
   ]
  }
 ],
 "metadata": {
  "kernelspec": {
   "display_name": "Python 3 (ipykernel)",
   "language": "python",
   "name": "python3"
  },
  "language_info": {
   "codemirror_mode": {
    "name": "ipython",
    "version": 3
   },
   "file_extension": ".py",
   "mimetype": "text/x-python",
   "name": "python",
   "nbconvert_exporter": "python",
   "pygments_lexer": "ipython3",
   "version": "3.9.13"
  }
 },
 "nbformat": 4,
 "nbformat_minor": 5
}
